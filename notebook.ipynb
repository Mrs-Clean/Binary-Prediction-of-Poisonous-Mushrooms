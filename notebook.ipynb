{
 "cells": [
  {
   "cell_type": "code",
   "execution_count": 172,
   "metadata": {},
   "outputs": [
    {
     "data": {
      "text/html": [
       "<div>\n",
       "<style scoped>\n",
       "    .dataframe tbody tr th:only-of-type {\n",
       "        vertical-align: middle;\n",
       "    }\n",
       "\n",
       "    .dataframe tbody tr th {\n",
       "        vertical-align: top;\n",
       "    }\n",
       "\n",
       "    .dataframe thead th {\n",
       "        text-align: right;\n",
       "    }\n",
       "</style>\n",
       "<table border=\"1\" class=\"dataframe\">\n",
       "  <thead>\n",
       "    <tr style=\"text-align: right;\">\n",
       "      <th></th>\n",
       "      <th>id</th>\n",
       "      <th>class</th>\n",
       "      <th>cap-diameter</th>\n",
       "      <th>cap-shape</th>\n",
       "      <th>cap-surface</th>\n",
       "      <th>cap-color</th>\n",
       "      <th>does-bruise-or-bleed</th>\n",
       "      <th>gill-attachment</th>\n",
       "      <th>gill-spacing</th>\n",
       "      <th>gill-color</th>\n",
       "      <th>...</th>\n",
       "      <th>stem-root</th>\n",
       "      <th>stem-surface</th>\n",
       "      <th>stem-color</th>\n",
       "      <th>veil-type</th>\n",
       "      <th>veil-color</th>\n",
       "      <th>has-ring</th>\n",
       "      <th>ring-type</th>\n",
       "      <th>spore-print-color</th>\n",
       "      <th>habitat</th>\n",
       "      <th>season</th>\n",
       "    </tr>\n",
       "  </thead>\n",
       "  <tbody>\n",
       "    <tr>\n",
       "      <th>0</th>\n",
       "      <td>0</td>\n",
       "      <td>e</td>\n",
       "      <td>8.80</td>\n",
       "      <td>f</td>\n",
       "      <td>s</td>\n",
       "      <td>u</td>\n",
       "      <td>f</td>\n",
       "      <td>a</td>\n",
       "      <td>c</td>\n",
       "      <td>w</td>\n",
       "      <td>...</td>\n",
       "      <td>NaN</td>\n",
       "      <td>NaN</td>\n",
       "      <td>w</td>\n",
       "      <td>NaN</td>\n",
       "      <td>NaN</td>\n",
       "      <td>f</td>\n",
       "      <td>f</td>\n",
       "      <td>NaN</td>\n",
       "      <td>d</td>\n",
       "      <td>a</td>\n",
       "    </tr>\n",
       "    <tr>\n",
       "      <th>1</th>\n",
       "      <td>1</td>\n",
       "      <td>p</td>\n",
       "      <td>4.51</td>\n",
       "      <td>x</td>\n",
       "      <td>h</td>\n",
       "      <td>o</td>\n",
       "      <td>f</td>\n",
       "      <td>a</td>\n",
       "      <td>c</td>\n",
       "      <td>n</td>\n",
       "      <td>...</td>\n",
       "      <td>NaN</td>\n",
       "      <td>y</td>\n",
       "      <td>o</td>\n",
       "      <td>NaN</td>\n",
       "      <td>NaN</td>\n",
       "      <td>t</td>\n",
       "      <td>z</td>\n",
       "      <td>NaN</td>\n",
       "      <td>d</td>\n",
       "      <td>w</td>\n",
       "    </tr>\n",
       "    <tr>\n",
       "      <th>2</th>\n",
       "      <td>2</td>\n",
       "      <td>e</td>\n",
       "      <td>6.94</td>\n",
       "      <td>f</td>\n",
       "      <td>s</td>\n",
       "      <td>b</td>\n",
       "      <td>f</td>\n",
       "      <td>x</td>\n",
       "      <td>c</td>\n",
       "      <td>w</td>\n",
       "      <td>...</td>\n",
       "      <td>NaN</td>\n",
       "      <td>s</td>\n",
       "      <td>n</td>\n",
       "      <td>NaN</td>\n",
       "      <td>NaN</td>\n",
       "      <td>f</td>\n",
       "      <td>f</td>\n",
       "      <td>NaN</td>\n",
       "      <td>l</td>\n",
       "      <td>w</td>\n",
       "    </tr>\n",
       "    <tr>\n",
       "      <th>3</th>\n",
       "      <td>3</td>\n",
       "      <td>e</td>\n",
       "      <td>3.88</td>\n",
       "      <td>f</td>\n",
       "      <td>y</td>\n",
       "      <td>g</td>\n",
       "      <td>f</td>\n",
       "      <td>s</td>\n",
       "      <td>NaN</td>\n",
       "      <td>g</td>\n",
       "      <td>...</td>\n",
       "      <td>NaN</td>\n",
       "      <td>NaN</td>\n",
       "      <td>w</td>\n",
       "      <td>NaN</td>\n",
       "      <td>NaN</td>\n",
       "      <td>f</td>\n",
       "      <td>f</td>\n",
       "      <td>NaN</td>\n",
       "      <td>d</td>\n",
       "      <td>u</td>\n",
       "    </tr>\n",
       "    <tr>\n",
       "      <th>4</th>\n",
       "      <td>4</td>\n",
       "      <td>e</td>\n",
       "      <td>5.85</td>\n",
       "      <td>x</td>\n",
       "      <td>l</td>\n",
       "      <td>w</td>\n",
       "      <td>f</td>\n",
       "      <td>d</td>\n",
       "      <td>NaN</td>\n",
       "      <td>w</td>\n",
       "      <td>...</td>\n",
       "      <td>NaN</td>\n",
       "      <td>NaN</td>\n",
       "      <td>w</td>\n",
       "      <td>NaN</td>\n",
       "      <td>NaN</td>\n",
       "      <td>f</td>\n",
       "      <td>f</td>\n",
       "      <td>NaN</td>\n",
       "      <td>g</td>\n",
       "      <td>a</td>\n",
       "    </tr>\n",
       "  </tbody>\n",
       "</table>\n",
       "<p>5 rows × 22 columns</p>\n",
       "</div>"
      ],
      "text/plain": [
       "   id class  cap-diameter cap-shape cap-surface cap-color  \\\n",
       "0   0     e          8.80         f           s         u   \n",
       "1   1     p          4.51         x           h         o   \n",
       "2   2     e          6.94         f           s         b   \n",
       "3   3     e          3.88         f           y         g   \n",
       "4   4     e          5.85         x           l         w   \n",
       "\n",
       "  does-bruise-or-bleed gill-attachment gill-spacing gill-color  ...  \\\n",
       "0                    f               a            c          w  ...   \n",
       "1                    f               a            c          n  ...   \n",
       "2                    f               x            c          w  ...   \n",
       "3                    f               s          NaN          g  ...   \n",
       "4                    f               d          NaN          w  ...   \n",
       "\n",
       "   stem-root  stem-surface stem-color veil-type veil-color has-ring ring-type  \\\n",
       "0        NaN           NaN          w       NaN        NaN        f         f   \n",
       "1        NaN             y          o       NaN        NaN        t         z   \n",
       "2        NaN             s          n       NaN        NaN        f         f   \n",
       "3        NaN           NaN          w       NaN        NaN        f         f   \n",
       "4        NaN           NaN          w       NaN        NaN        f         f   \n",
       "\n",
       "  spore-print-color habitat season  \n",
       "0               NaN       d      a  \n",
       "1               NaN       d      w  \n",
       "2               NaN       l      w  \n",
       "3               NaN       d      u  \n",
       "4               NaN       g      a  \n",
       "\n",
       "[5 rows x 22 columns]"
      ]
     },
     "execution_count": 172,
     "metadata": {},
     "output_type": "execute_result"
    }
   ],
   "source": [
    "import pandas as pd\n",
    "df = pd.read_csv(\"playground-series-s4e8\\\\train.csv\")\n",
    "df.head()"
   ]
  },
  {
   "cell_type": "code",
   "execution_count": 173,
   "metadata": {},
   "outputs": [
    {
     "name": "stdout",
     "output_type": "stream",
     "text": [
      "id                        int64\n",
      "class                    object\n",
      "cap-diameter            float64\n",
      "cap-shape                object\n",
      "cap-surface              object\n",
      "cap-color                object\n",
      "does-bruise-or-bleed     object\n",
      "gill-attachment          object\n",
      "gill-spacing             object\n",
      "gill-color               object\n",
      "stem-height             float64\n",
      "stem-width              float64\n",
      "stem-root                object\n",
      "stem-surface             object\n",
      "stem-color               object\n",
      "veil-type                object\n",
      "veil-color               object\n",
      "has-ring                 object\n",
      "ring-type                object\n",
      "spore-print-color        object\n",
      "habitat                  object\n",
      "season                   object\n",
      "dtype: object\n",
      "(3116945, 22)\n"
     ]
    }
   ],
   "source": [
    "print(df.dtypes)\n",
    "print(df.shape)"
   ]
  },
  {
   "cell_type": "code",
   "execution_count": 174,
   "metadata": {},
   "outputs": [
    {
     "data": {
      "text/plain": [
       "id                            0\n",
       "class                         0\n",
       "cap-diameter                  4\n",
       "cap-shape                    40\n",
       "cap-surface              671023\n",
       "cap-color                    12\n",
       "does-bruise-or-bleed          8\n",
       "gill-attachment          523936\n",
       "gill-spacing            1258435\n",
       "gill-color                   57\n",
       "stem-height                   0\n",
       "stem-width                    0\n",
       "stem-root               2757023\n",
       "stem-surface            1980861\n",
       "stem-color                   38\n",
       "veil-type               2957493\n",
       "veil-color              2740947\n",
       "has-ring                     24\n",
       "ring-type                128880\n",
       "spore-print-color       2849682\n",
       "habitat                      45\n",
       "season                        0\n",
       "dtype: int64"
      ]
     },
     "execution_count": 174,
     "metadata": {},
     "output_type": "execute_result"
    }
   ],
   "source": [
    "# checking null values\n",
    "df.isnull().sum()"
   ]
  },
  {
   "cell_type": "code",
   "execution_count": 175,
   "metadata": {},
   "outputs": [
    {
     "data": {
      "text/plain": [
       "id                            0\n",
       "class                         0\n",
       "cap-diameter                  0\n",
       "cap-shape                    40\n",
       "cap-surface              671023\n",
       "cap-color                    12\n",
       "does-bruise-or-bleed          8\n",
       "gill-attachment          523936\n",
       "gill-spacing            1258435\n",
       "gill-color                   57\n",
       "stem-height                   0\n",
       "stem-width                    0\n",
       "stem-root               2757023\n",
       "stem-surface            1980861\n",
       "stem-color                   38\n",
       "veil-type               2957493\n",
       "veil-color              2740947\n",
       "has-ring                     24\n",
       "ring-type                128880\n",
       "spore-print-color       2849682\n",
       "habitat                      45\n",
       "season                        0\n",
       "dtype: int64"
      ]
     },
     "execution_count": 175,
     "metadata": {},
     "output_type": "execute_result"
    }
   ],
   "source": [
    "# replacing null cap-diameter values with the mean\n",
    "df1 = df.copy()\n",
    "df1['cap-diameter'] = df1['cap-diameter'].fillna(df['cap-diameter'].mean())\n",
    "df1.isnull().sum()"
   ]
  },
  {
   "cell_type": "code",
   "execution_count": 176,
   "metadata": {},
   "outputs": [
    {
     "name": "stdout",
     "output_type": "stream",
     "text": [
      "cap-shape\n",
      "x        1436026\n",
      "f         676238\n",
      "s         365146\n",
      "b         318646\n",
      "o         108835\n",
      "          ...   \n",
      "12.62          1\n",
      "5.15           1\n",
      "19.04          1\n",
      "49.21          1\n",
      "19.06          1\n",
      "Name: count, Length: 74, dtype: int64\n"
     ]
    }
   ],
   "source": [
    "# cap shape values\n",
    "cap_shape = df['cap-shape'].value_counts()\n",
    "print(cap_shape)"
   ]
  },
  {
   "cell_type": "code",
   "execution_count": 177,
   "metadata": {},
   "outputs": [
    {
     "name": "stdout",
     "output_type": "stream",
     "text": [
      "Null values: 0\n",
      "cap-shape\n",
      "x        1436026\n",
      "f         676238\n",
      "s         365146\n",
      "b         318646\n",
      "o         108835\n",
      "p         106967\n",
      "c         104520\n",
      "other        567\n",
      "Name: count, dtype: int64\n"
     ]
    }
   ],
   "source": [
    "# The cap shapes have a lot of non-character values, so we replace them with 'other'\n",
    "df1['cap-shape'] = df1['cap-shape'].fillna('other')\n",
    "df1['cap-shape'] = df1['cap-shape'].astype(str).str.strip()\n",
    "print('Null values:', df1['cap-shape'].isnull().sum())\n",
    "\n",
    "# we treat x, f, s, b, o, p, c as official values for cap-shape, and call all other categories \"other\"\n",
    "official_cap_shapes = ['x', 'f', 's', 'b', 'o', 'p', 'c']\n",
    "df1['cap-shape'] = df1['cap-shape'].apply(lambda x: x if x in official_cap_shapes else 'other')\n",
    "cap_shape1 = df1['cap-shape'].value_counts()\n",
    "print(cap_shape1)"
   ]
  },
  {
   "cell_type": "code",
   "execution_count": 178,
   "metadata": {},
   "outputs": [
    {
     "name": "stdout",
     "output_type": "stream",
     "text": [
      "cap-surface\n",
      "t        460777\n",
      "s        384970\n",
      "y        327826\n",
      "h        284460\n",
      "g        263729\n",
      "          ...  \n",
      "1.42          1\n",
      "has h         1\n",
      "10.83         1\n",
      "8.96          1\n",
      "0.87          1\n",
      "Name: count, Length: 83, dtype: int64\n"
     ]
    }
   ],
   "source": [
    "# cap surface values\n",
    "cap_surface = df['cap-surface'].value_counts()\n",
    "print(cap_surface)"
   ]
  },
  {
   "cell_type": "code",
   "execution_count": 179,
   "metadata": {},
   "outputs": [
    {
     "name": "stdout",
     "output_type": "stream",
     "text": [
      "Null values: 0\n",
      "cap-surface\n",
      "other    671625\n",
      "t        460777\n",
      "s        384970\n",
      "y        327826\n",
      "h        284460\n",
      "g        263729\n",
      "d        206832\n",
      "k        128875\n",
      "e        119712\n",
      "i        113440\n",
      "w        109840\n",
      "l         44859\n",
      "Name: count, dtype: int64\n"
     ]
    }
   ],
   "source": [
    "#cleaning cap-surface\n",
    "df1['cap-surface'] = df1['cap-surface'].fillna('other')\n",
    "df1['cap-surface'] = df1['cap-surface'].astype(str).str.strip()\n",
    "df1['cap-surface'] = df1['cap-surface'].apply(lambda x: 'x' if (x.isnumeric() or '.' in x or ' ' in x) else x)\n",
    "print('Null values:', df1['cap-surface'].isnull().sum())\n",
    "\n",
    "\n",
    "# we treat t, s, y, h, g, d, k, e, i, w, l, as official values for cap-surface, and call all other categories \"other\"\n",
    "official_cap_surface = ['t', 's', 'y', 'h', 'g', 'd', 'k', 'e', 'i', 'w', 'l']\n",
    "df1['cap-surface'] = df1['cap-surface'].apply(lambda x: x if x in official_cap_surface else 'other')\n",
    "cap_surface1 = df1['cap-surface'].value_counts()\n",
    "print(cap_surface1)"
   ]
  },
  {
   "cell_type": "code",
   "execution_count": 180,
   "metadata": {},
   "outputs": [
    {
     "name": "stdout",
     "output_type": "stream",
     "text": [
      "cap-color\n",
      "n    1359542\n",
      "y     386627\n",
      "w     379442\n",
      "g     210825\n",
      "e     197290\n",
      "o     178847\n",
      "p      91838\n",
      "r      78236\n",
      "u      73172\n",
      "b      61313\n",
      "k      59888\n",
      "l      39558\n",
      "f         53\n",
      "d         48\n",
      "s         39\n",
      "a         30\n",
      "t         26\n",
      "h         22\n",
      "m         14\n",
      "x         14\n",
      "Name: count, dtype: int64\n"
     ]
    }
   ],
   "source": [
    "# cap colour values\n",
    "cap_color = df['cap-color'].value_counts()\n",
    "print(cap_color.head(20))"
   ]
  },
  {
   "cell_type": "code",
   "execution_count": 181,
   "metadata": {},
   "outputs": [
    {
     "name": "stdout",
     "output_type": "stream",
     "text": [
      "Null values: 0\n",
      "cap-color\n",
      "n        1359542\n",
      "y         386627\n",
      "w         379442\n",
      "g         210825\n",
      "e         197290\n",
      "o         178847\n",
      "p          91838\n",
      "r          78236\n",
      "u          73172\n",
      "b          61313\n",
      "k          59888\n",
      "l          39558\n",
      "other        367\n",
      "Name: count, dtype: int64\n"
     ]
    }
   ],
   "source": [
    "#cleaning cap-colour\n",
    "df1['cap-color'] = df1['cap-color'].fillna('other')\n",
    "df1['cap-color'] = df1['cap-color'].astype(str).str.strip()\n",
    "df1['cap-color'] = df1['cap-color'].apply(lambda x: 'x' if (x.isnumeric() or '.' in x or ' ' in x) else x)\n",
    "print('Null values:', df1['cap-color'].isnull().sum())\n",
    "\n",
    "\n",
    "# we treat n, y, w, g, e, o, p, r, u, b, k, l as official values for cap-surface, and call all other categories \"other\"\n",
    "official_cap_color = ['n', 'y', 'w', 'g', 'e', 'o', 'p', 'r', 'u', 'b', 'k', 'l']\n",
    "df1['cap-color'] = df1['cap-color'].apply(lambda x: x if x in official_cap_color else 'other')\n",
    "cap_color1 = df1['cap-color'].value_counts()\n",
    "print(cap_color1)"
   ]
  },
  {
   "cell_type": "code",
   "execution_count": 182,
   "metadata": {},
   "outputs": [
    {
     "name": "stdout",
     "output_type": "stream",
     "text": [
      "does-bruise-or-bleed\n",
      "f    2569743\n",
      "t     547085\n",
      "w         14\n",
      "c         11\n",
      "h          9\n",
      "a          7\n",
      "b          7\n",
      "x          7\n",
      "y          7\n",
      "k          6\n",
      "s          6\n",
      "e          4\n",
      "l          4\n",
      "p          4\n",
      "d          4\n",
      "g          3\n",
      "z          3\n",
      "o          3\n",
      "i          2\n",
      "n          2\n",
      "Name: count, dtype: int64\n",
      "Null values: 8\n"
     ]
    }
   ],
   "source": [
    "# bruise/bleed values\n",
    "bruise_bleed = df['does-bruise-or-bleed'].value_counts()\n",
    "print(bruise_bleed.head(20))\n",
    "print('Null values:', df1['does-bruise-or-bleed'].isnull().sum())"
   ]
  },
  {
   "cell_type": "code",
   "execution_count": 183,
   "metadata": {},
   "outputs": [
    {
     "name": "stdout",
     "output_type": "stream",
     "text": [
      "Null values: 0\n",
      "does-bruise-or-bleed\n",
      "f        2569743\n",
      "t         547085\n",
      "other        117\n",
      "Name: count, dtype: int64\n"
     ]
    }
   ],
   "source": [
    "#cleaning bruise/bleed\n",
    "df1['does-bruise-or-bleed'] = df1['does-bruise-or-bleed'].fillna('other')\n",
    "df1['does-bruise-or-bleed'] = df1['does-bruise-or-bleed'].astype(str).str.strip()\n",
    "df1['does-bruise-or-bleed'] = df1['does-bruise-or-bleed'].apply(lambda x: 'x' if (x.isnumeric() or '.' in x or ' ' in x) else x)\n",
    "print('Null values:', df1['does-bruise-or-bleed'].isnull().sum())\n",
    "\n",
    "\n",
    "# we treat t, f as official values for bruise/bleed, and call all other categories \"other\"\n",
    "official_bruise_bleed = ['t', 'f']\n",
    "df1['does-bruise-or-bleed'] = df1['does-bruise-or-bleed'].apply(lambda x: x if x in official_bruise_bleed else 'other')\n",
    "bruise_bleed1 = df1['does-bruise-or-bleed'].value_counts()\n",
    "print(bruise_bleed1)"
   ]
  },
  {
   "cell_type": "code",
   "execution_count": 184,
   "metadata": {},
   "outputs": [
    {
     "name": "stdout",
     "output_type": "stream",
     "text": [
      "gill-attachment\n",
      "a    646034\n",
      "d    589236\n",
      "x    360878\n",
      "e    301858\n",
      "s    295439\n",
      "p    279110\n",
      "f    119953\n",
      "c        74\n",
      "u        56\n",
      "w        37\n",
      "t        36\n",
      "k        33\n",
      "y        28\n",
      "i        25\n",
      "m        22\n",
      "g        22\n",
      "b        21\n",
      "n        20\n",
      "o        18\n",
      "h        18\n",
      "Name: count, dtype: int64\n",
      "Null values: 523936\n"
     ]
    }
   ],
   "source": [
    "# grill attachment values\n",
    "grill_attachment = df['gill-attachment'].value_counts()\n",
    "print(grill_attachment.head(20))\n",
    "print('Null values:', df1['gill-attachment'].isnull().sum())"
   ]
  },
  {
   "cell_type": "code",
   "execution_count": 185,
   "metadata": {},
   "outputs": [
    {
     "name": "stdout",
     "output_type": "stream",
     "text": [
      "Null values: 0\n",
      "gill-attachment\n",
      "a        646034\n",
      "d        589236\n",
      "other    524385\n",
      "x        360930\n",
      "e        301858\n",
      "s        295439\n",
      "p        279110\n",
      "f        119953\n",
      "Name: count, dtype: int64\n"
     ]
    }
   ],
   "source": [
    "#cleaning grill attachment\n",
    "df1['gill-attachment'] = df1['gill-attachment'].fillna('other')\n",
    "df1['gill-attachment'] = df1['gill-attachment'].astype(str).str.strip()\n",
    "df1['gill-attachment'] = df1['gill-attachment'].apply(lambda x: 'x' if (x.isnumeric() or '.' in x or ' ' in x) else x)\n",
    "print('Null values:', df1['gill-attachment'].isnull().sum())\n",
    "\n",
    "\n",
    "# we treat a, d, x, e, s, p, f as official values, and call all other categories \"other\"\n",
    "official_grill_attachment = ['a', 'd', 'x', 'e', 's', 'p', 'f']\n",
    "df1['gill-attachment'] = df1['gill-attachment'].apply(lambda x: x if x in official_grill_attachment else 'other')\n",
    "grill_attachment1 = df1['gill-attachment'].value_counts()\n",
    "print(grill_attachment1)"
   ]
  },
  {
   "cell_type": "code",
   "execution_count": 186,
   "metadata": {},
   "outputs": [
    {
     "name": "stdout",
     "output_type": "stream",
     "text": [
      "gill-spacing\n",
      "c       1331054\n",
      "d        407932\n",
      "f        119380\n",
      "e            24\n",
      "a            17\n",
      "s            16\n",
      "b            12\n",
      "x             8\n",
      "t             8\n",
      "p             7\n",
      "k             4\n",
      "g             4\n",
      "l             3\n",
      "h             3\n",
      "r             2\n",
      "6.67          2\n",
      "y             2\n",
      "0             2\n",
      "3.81          1\n",
      "1.6           1\n",
      "Name: count, dtype: int64\n",
      "Null values: 1258435\n"
     ]
    }
   ],
   "source": [
    "# grill spacing values\n",
    "gill_spacing = df['gill-spacing'].value_counts()\n",
    "print(gill_spacing.head(20))\n",
    "print('Null values:', df1['gill-spacing'].isnull().sum())"
   ]
  },
  {
   "cell_type": "code",
   "execution_count": 187,
   "metadata": {},
   "outputs": [
    {
     "name": "stdout",
     "output_type": "stream",
     "text": [
      "Null values: 0\n",
      "gill-spacing\n",
      "c        1331054\n",
      "other    1258579\n",
      "d         407932\n",
      "f         119380\n",
      "Name: count, dtype: int64\n"
     ]
    }
   ],
   "source": [
    "#cleaning grill spacing\n",
    "df1['gill-spacing'] = df1['gill-spacing'].fillna('other')\n",
    "df1['gill-spacing'] = df1['gill-spacing'].astype(str).str.strip()\n",
    "df1['gill-spacing'] = df1['gill-spacing'].apply(lambda x: 'x' if (x.isnumeric() or '.' in x or ' ' in x) else x)\n",
    "print('Null values:', df1['gill-spacing'].isnull().sum())\n",
    "\n",
    "\n",
    "# we treat c, d, f as official values, and call all other categories \"other\"\n",
    "official_grill_spacing = ['d', 'f', 'c']\n",
    "df1['gill-spacing'] = df1['gill-spacing'].apply(lambda x: x if x in official_grill_spacing else 'other')\n",
    "grill_spacing1 = df1['gill-spacing'].value_counts()\n",
    "print(grill_spacing1)"
   ]
  },
  {
   "cell_type": "code",
   "execution_count": 188,
   "metadata": {},
   "outputs": [
    {
     "name": "stdout",
     "output_type": "stream",
     "text": [
      "gill-color\n",
      "w    931538\n",
      "n    543386\n",
      "y    469464\n",
      "p    343626\n",
      "g    212164\n",
      "o    157119\n",
      "k    127970\n",
      "f    119694\n",
      "r     62799\n",
      "e     56047\n",
      "b     47247\n",
      "u     45399\n",
      "l        55\n",
      "d        54\n",
      "t        54\n",
      "Name: count, dtype: int64\n",
      "Null values: 57\n"
     ]
    }
   ],
   "source": [
    "# grill color values\n",
    "gill_color = df['gill-color'].value_counts()\n",
    "print(gill_color.head(15))\n",
    "print('Null values:', df1['gill-color'].isnull().sum())"
   ]
  },
  {
   "cell_type": "code",
   "execution_count": 189,
   "metadata": {},
   "outputs": [
    {
     "name": "stdout",
     "output_type": "stream",
     "text": [
      "Null values: 0\n",
      "gill-color\n",
      "w        931538\n",
      "n        543386\n",
      "y        469464\n",
      "p        343626\n",
      "g        212164\n",
      "o        157119\n",
      "k        127970\n",
      "f        119694\n",
      "r         62799\n",
      "e         56047\n",
      "b         47247\n",
      "u         45399\n",
      "other       492\n",
      "Name: count, dtype: int64\n"
     ]
    }
   ],
   "source": [
    "#cleaning grill color\n",
    "df1['gill-color'] = df1['gill-color'].fillna('other')\n",
    "df1['gill-color'] = df1['gill-color'].astype(str).str.strip()\n",
    "df1['gill-color'] = df1['gill-color'].apply(lambda x: 'x' if (x.isnumeric() or '.' in x or ' ' in x) else x)\n",
    "print('Null values:', df1['gill-color'].isnull().sum())\n",
    "\n",
    "\n",
    "# we treat w, n, y, p, g, o, k, f, r, e, b, u as official values, and call all other categories \"other\"\n",
    "official_grill_color = ['w', 'n', 'y', 'p', 'g', 'o', 'k', 'f', 'r', 'e', 'b', 'u']\n",
    "df1['gill-color'] = df1['gill-color'].apply(lambda x: x if x in official_grill_color else 'other')\n",
    "grill_color1 = df1['gill-color'].value_counts()\n",
    "print(grill_color1)"
   ]
  },
  {
   "cell_type": "markdown",
   "metadata": {},
   "source": [
    "Both stem height and width have no null values and are continuous, so we leave them as they are"
   ]
  },
  {
   "cell_type": "code",
   "execution_count": 190,
   "metadata": {},
   "outputs": [
    {
     "name": "stdout",
     "output_type": "stream",
     "text": [
      "stem-root\n",
      "b    165801\n",
      "s    116946\n",
      "r     47803\n",
      "c     28592\n",
      "f       597\n",
      "d        24\n",
      "y        14\n",
      "g        12\n",
      "w        12\n",
      "p        12\n",
      "k        11\n",
      "t        10\n",
      "l        10\n",
      "n        10\n",
      "x         9\n",
      "Name: count, dtype: int64\n",
      "Null values: 2757023\n"
     ]
    }
   ],
   "source": [
    "# stem root values\n",
    "stem_root = df['stem-root'].value_counts()\n",
    "print(stem_root.head(15))\n",
    "print('Null values:', df1['stem-root'].isnull().sum())"
   ]
  },
  {
   "cell_type": "code",
   "execution_count": 191,
   "metadata": {},
   "outputs": [
    {
     "name": "stdout",
     "output_type": "stream",
     "text": [
      "Null values: 0\n",
      "stem-root\n",
      "other    2757803\n",
      "b         165801\n",
      "s         116946\n",
      "r          47803\n",
      "c          28592\n",
      "Name: count, dtype: int64\n"
     ]
    }
   ],
   "source": [
    "# cleaning stem root\n",
    "df1['stem-root'] = df1['stem-root'].fillna('other')\n",
    "df1['stem-root'] = df1['stem-root'].astype(str).str.strip()\n",
    "df1['stem-root'] = df1['stem-root'].apply(lambda x: 'x' if (x.isnumeric() or '.' in x or ' ' in x) else x)\n",
    "print('Null values:', df1['stem-root'].isnull().sum())\n",
    "\n",
    "\n",
    "# we treat b, s, r, c as official values, and call all other categories \"other\"\n",
    "official_stem_root = ['b', 's', 'r', 'c']\n",
    "df1['stem-root'] = df1['stem-root'].apply(lambda x: x if x in official_stem_root else 'other')\n",
    "stem_root1 = df1['stem-root'].value_counts()\n",
    "print(stem_root1)"
   ]
  },
  {
   "cell_type": "code",
   "execution_count": 192,
   "metadata": {},
   "outputs": [
    {
     "name": "stdout",
     "output_type": "stream",
     "text": [
      "stem-surface\n",
      "s    327610\n",
      "y    255500\n",
      "i    224346\n",
      "t    147974\n",
      "g     78080\n",
      "k     73383\n",
      "h     28283\n",
      "f       512\n",
      "w        49\n",
      "d        48\n",
      "e        36\n",
      "n        34\n",
      "x        26\n",
      "b        23\n",
      "c        22\n",
      "Name: count, dtype: int64\n",
      "Null values: 1980861\n"
     ]
    }
   ],
   "source": [
    "# stem surface values\n",
    "stem_surface = df['stem-surface'].value_counts()\n",
    "print(stem_surface.head(15))\n",
    "print('Null values:', df1['stem-surface'].isnull().sum())"
   ]
  },
  {
   "cell_type": "code",
   "execution_count": 193,
   "metadata": {},
   "outputs": [
    {
     "name": "stdout",
     "output_type": "stream",
     "text": [
      "Null values: 0\n",
      "stem-surface\n",
      "other    1981769\n",
      "s         327610\n",
      "y         255500\n",
      "i         224346\n",
      "t         147974\n",
      "g          78080\n",
      "k          73383\n",
      "h          28283\n",
      "Name: count, dtype: int64\n"
     ]
    }
   ],
   "source": [
    "# cleaning stem surface\n",
    "df1['stem-surface'] = df1['stem-surface'].fillna('other')\n",
    "df1['stem-surface'] = df1['stem-surface'].astype(str).str.strip()\n",
    "df1['stem-surface'] = df1['stem-surface'].apply(lambda x: 'x' if (x.isnumeric() or '.' in x or ' ' in x) else x)\n",
    "print('Null values:', df1['stem-surface'].isnull().sum())\n",
    "\n",
    "\n",
    "# we treat s, y, i, t, g, k, h as official values, and call all other categories \"other\"\n",
    "official_stem_surface = ['s', 'y', 'i', 't', 'g', 'k', 'h']\n",
    "df1['stem-surface'] = df1['stem-surface'].apply(lambda x: x if x in official_stem_surface else 'other')\n",
    "stem_surface1 = df1['stem-surface'].value_counts()\n",
    "print(stem_surface1)"
   ]
  },
  {
   "cell_type": "code",
   "execution_count": 194,
   "metadata": {},
   "outputs": [
    {
     "name": "stdout",
     "output_type": "stream",
     "text": [
      "stem-color\n",
      "w    1196637\n",
      "n    1003464\n",
      "y     373971\n",
      "g     132019\n",
      "o     111541\n",
      "e     103373\n",
      "u      67017\n",
      "p      54690\n",
      "k      33676\n",
      "r      22329\n",
      "l       9994\n",
      "b       7365\n",
      "f        573\n",
      "s         51\n",
      "t         40\n",
      "Name: count, dtype: int64\n",
      "Null values: 38\n"
     ]
    }
   ],
   "source": [
    "# stem color values\n",
    "stem_color = df['stem-color'].value_counts()\n",
    "print(stem_color.head(15))\n",
    "print('Null values:', df1['stem-color'].isnull().sum())"
   ]
  },
  {
   "cell_type": "code",
   "execution_count": 195,
   "metadata": {},
   "outputs": [
    {
     "name": "stdout",
     "output_type": "stream",
     "text": [
      "Null values: 0\n",
      "stem-color\n",
      "w        1196637\n",
      "n        1003464\n",
      "y         373971\n",
      "g         132019\n",
      "o         111541\n",
      "e         103373\n",
      "u          67017\n",
      "p          54690\n",
      "k          33676\n",
      "r          22329\n",
      "other      18228\n",
      "Name: count, dtype: int64\n"
     ]
    }
   ],
   "source": [
    "# cleaning stem color\n",
    "df1['stem-color'] = df1['stem-color'].fillna('other')\n",
    "df1['stem-color'] = df1['stem-color'].astype(str).str.strip()\n",
    "df1['stem-color'] = df1['stem-color'].apply(lambda x: 'x' if (x.isnumeric() or '.' in x or ' ' in x) else x)\n",
    "print('Null values:', df1['stem-color'].isnull().sum())\n",
    "\n",
    "\n",
    "# we treat w, n, y, g, o, e, u, p, k, r as official values, and call all other categories \"other\"\n",
    "official_stem_color = ['w', 'n', 'y', 'g', 'o', 'e', 'u', 'p', 'k', 'r']\n",
    "df1['stem-color'] = df1['stem-color'].apply(lambda x: x if x in official_stem_color else 'other')\n",
    "stem_color1 = df1['stem-color'].value_counts()\n",
    "print(stem_color1)"
   ]
  },
  {
   "cell_type": "code",
   "execution_count": 196,
   "metadata": {},
   "outputs": [
    {
     "name": "stdout",
     "output_type": "stream",
     "text": [
      "veil-type\n",
      "u    159373\n",
      "w        11\n",
      "a         9\n",
      "f         8\n",
      "e         8\n",
      "b         5\n",
      "c         5\n",
      "y         4\n",
      "k         4\n",
      "g         4\n",
      "n         3\n",
      "s         3\n",
      "r         2\n",
      "d         2\n",
      "p         2\n",
      "Name: count, dtype: int64\n",
      "Null values: 2957493\n"
     ]
    }
   ],
   "source": [
    "# veil type values\n",
    "veil_type = df['veil-type'].value_counts()\n",
    "print(veil_type.head(15))\n",
    "print('Null values:', df1['veil-type'].isnull().sum())"
   ]
  },
  {
   "cell_type": "code",
   "execution_count": 197,
   "metadata": {},
   "outputs": [
    {
     "name": "stdout",
     "output_type": "stream",
     "text": [
      "Null values: 0\n",
      "veil-type\n",
      "other    2957572\n",
      "u         159373\n",
      "Name: count, dtype: int64\n"
     ]
    }
   ],
   "source": [
    "# cleaning veil type\n",
    "df1['veil-type'] = df1['veil-type'].fillna('other')\n",
    "df1['veil-type'] = df1['veil-type'].astype(str).str.strip()\n",
    "df1['veil-type'] = df1['veil-type'].apply(lambda x: 'x' if (x.isnumeric() or '.' in x or ' ' in x) else x)\n",
    "print('Null values:', df1['veil-type'].isnull().sum())\n",
    "\n",
    "\n",
    "# we treat u as official values, and call all other categories \"other\"\n",
    "official_veil_type = ['u']\n",
    "df1['veil-type'] = df1['veil-type'].apply(lambda x: x if x in official_veil_type else 'other')\n",
    "veil_type1 = df1['veil-type'].value_counts()\n",
    "print(veil_type1)"
   ]
  },
  {
   "cell_type": "code",
   "execution_count": 198,
   "metadata": {},
   "outputs": [
    {
     "name": "stdout",
     "output_type": "stream",
     "text": [
      "veil-color\n",
      "w    279070\n",
      "y     30473\n",
      "n     30039\n",
      "u     14026\n",
      "k     13080\n",
      "e      9169\n",
      "g        30\n",
      "p        23\n",
      "r        14\n",
      "o        13\n",
      "s        11\n",
      "a         7\n",
      "t         7\n",
      "d         6\n",
      "i         6\n",
      "Name: count, dtype: int64\n",
      "Null values: 2740947\n"
     ]
    }
   ],
   "source": [
    "# veil color values\n",
    "veil_color = df['veil-color'].value_counts()\n",
    "print(veil_color.head(15))\n",
    "print('Null values:', df1['veil-color'].isnull().sum())"
   ]
  },
  {
   "cell_type": "code",
   "execution_count": 199,
   "metadata": {},
   "outputs": [
    {
     "name": "stdout",
     "output_type": "stream",
     "text": [
      "Null values: 0\n",
      "veil-color\n",
      "other    2741088\n",
      "w         279070\n",
      "y          30473\n",
      "n          30039\n",
      "u          14026\n",
      "k          13080\n",
      "e           9169\n",
      "Name: count, dtype: int64\n"
     ]
    }
   ],
   "source": [
    "#cleaning veil color\n",
    "df1['veil-color'] = df1['veil-color'].fillna('other')\n",
    "df1['veil-color'] = df1['veil-color'].astype(str).str.strip()\n",
    "df1['veil-color'] = df1['veil-color'].apply(lambda x: 'x' if (x.isnumeric() or '.' in x or ' ' in x) else x)\n",
    "print('Null values:', df1['veil-color'].isnull().sum())\n",
    "\n",
    "\n",
    "# we treat w, y, n, u, k, e as official values, and call all other categories \"other\"\n",
    "official_veil_color = ['w', 'y', 'n', 'u', 'k', 'e']\n",
    "df1['veil-color'] = df1['veil-color'].apply(lambda x: x if x in official_veil_color else 'other')\n",
    "veil_color1 = df1['veil-color'].value_counts()\n",
    "print(veil_color1)"
   ]
  },
  {
   "cell_type": "code",
   "execution_count": 200,
   "metadata": {},
   "outputs": [
    {
     "name": "stdout",
     "output_type": "stream",
     "text": [
      "has-ring\n",
      "f    2368820\n",
      "t     747982\n",
      "r         16\n",
      "h         13\n",
      "c         11\n",
      "l         11\n",
      "s         11\n",
      "p         11\n",
      "g          8\n",
      "z          6\n",
      "e          6\n",
      "x          5\n",
      "m          4\n",
      "y          3\n",
      "d          3\n",
      "Name: count, dtype: int64\n",
      "Null values: 24\n"
     ]
    }
   ],
   "source": [
    "# has ring values\n",
    "has_ring = df['has-ring'].value_counts()\n",
    "print(has_ring.head(15))\n",
    "print('Null values:', df1['has-ring'].isnull().sum())"
   ]
  },
  {
   "cell_type": "code",
   "execution_count": 201,
   "metadata": {},
   "outputs": [
    {
     "name": "stdout",
     "output_type": "stream",
     "text": [
      "Null values: 0\n",
      "has-ring\n",
      "f        2368820\n",
      "t         747982\n",
      "other        143\n",
      "Name: count, dtype: int64\n"
     ]
    }
   ],
   "source": [
    "#cleaning has ring\n",
    "df1['has-ring'] = df1['has-ring'].fillna('other')\n",
    "df1['has-ring'] = df1['has-ring'].astype(str).str.strip()\n",
    "df1['has-ring'] = df1['has-ring'].apply(lambda x: 'x' if (x.isnumeric() or '.' in x or ' ' in x) else x)\n",
    "print('Null values:', df1['has-ring'].isnull().sum())\n",
    "\n",
    "\n",
    "# we treat a, d, x, e, s, p, f as official values, and call all other categories \"other\"\n",
    "official_has_ring = ['f', 't']\n",
    "df1['has-ring'] = df1['has-ring'].apply(lambda x: x if x in official_has_ring else 'other')\n",
    "has_ring1 = df1['has-ring'].value_counts()\n",
    "print(has_ring1)"
   ]
  },
  {
   "cell_type": "code",
   "execution_count": 202,
   "metadata": {},
   "outputs": [
    {
     "name": "stdout",
     "output_type": "stream",
     "text": [
      "ring-type\n",
      "f    2477170\n",
      "e     120006\n",
      "z     113780\n",
      "l      73443\n",
      "r      67909\n",
      "p      67678\n",
      "g      63687\n",
      "m       3992\n",
      "t         98\n",
      "d         37\n",
      "n         34\n",
      "x         32\n",
      "b         29\n",
      "y         25\n",
      "s         18\n",
      "Name: count, dtype: int64\n",
      "Null values: 128880\n"
     ]
    }
   ],
   "source": [
    "# ring type values\n",
    "ring_type = df['ring-type'].value_counts()\n",
    "print(ring_type.head(15))\n",
    "print('Null values:', df1['ring-type'].isnull().sum())"
   ]
  },
  {
   "cell_type": "code",
   "execution_count": 203,
   "metadata": {},
   "outputs": [
    {
     "name": "stdout",
     "output_type": "stream",
     "text": [
      "Null values: 0\n",
      "ring-type\n",
      "f        2477170\n",
      "other     133272\n",
      "e         120006\n",
      "z         113780\n",
      "l          73443\n",
      "r          67909\n",
      "p          67678\n",
      "g          63687\n",
      "Name: count, dtype: int64\n"
     ]
    }
   ],
   "source": [
    "#cleaning ring type\n",
    "df1['ring-type'] = df1['ring-type'].fillna('other')\n",
    "df1['ring-type'] = df1['ring-type'].astype(str).str.strip()\n",
    "df1['ring-type'] = df1['ring-type'].apply(lambda x: 'x' if (x.isnumeric() or '.' in x or ' ' in x) else x)\n",
    "print('Null values:', df1['has-ring'].isnull().sum())\n",
    "\n",
    "\n",
    "# we treat f, e, z, l, r, p, g as official values, and call all other categories \"other\"\n",
    "official_ring_type = ['f', 'e', 'z', 'l', 'r', 'p', 'g']\n",
    "df1['ring-type'] = df1['ring-type'].apply(lambda x: x if x in official_ring_type else 'other')\n",
    "ring_type1 = df1['ring-type'].value_counts()\n",
    "print(ring_type1)"
   ]
  },
  {
   "cell_type": "code",
   "execution_count": 204,
   "metadata": {},
   "outputs": [
    {
     "name": "stdout",
     "output_type": "stream",
     "text": [
      "spore-print-color\n",
      "k    107310\n",
      "p     68237\n",
      "w     50173\n",
      "n     22646\n",
      "r      7975\n",
      "u      7256\n",
      "g      3492\n",
      "y        36\n",
      "s        21\n",
      "c        16\n",
      "e        14\n",
      "f        14\n",
      "t        13\n",
      "a        13\n",
      "d         9\n",
      "Name: count, dtype: int64\n",
      "Null values: 2849682\n"
     ]
    }
   ],
   "source": [
    "# spore values\n",
    "spore = df['spore-print-color'].value_counts()\n",
    "print(spore.head(15))\n",
    "print('Null values:', df1['spore-print-color'].isnull().sum())"
   ]
  },
  {
   "cell_type": "code",
   "execution_count": 205,
   "metadata": {},
   "outputs": [
    {
     "name": "stdout",
     "output_type": "stream",
     "text": [
      "Null values: 0\n",
      "spore-print-color\n",
      "other    2868579\n",
      "k         107310\n",
      "p          68237\n",
      "w          50173\n",
      "n          22646\n",
      "Name: count, dtype: int64\n"
     ]
    }
   ],
   "source": [
    "#cleaning spore\n",
    "df1['spore-print-color'] = df1['spore-print-color'].fillna('other')\n",
    "df1['spore-print-color'] = df1['spore-print-color'].astype(str).str.strip()\n",
    "df1['spore-print-color'] = df1['spore-print-color'].apply(lambda x: 'x' if (x.isnumeric() or '.' in x or ' ' in x) else x)\n",
    "print('Null values:', df1['spore-print-color'].isnull().sum())\n",
    "\n",
    "\n",
    "# we treat k, p, w, n as official values, and call all other categories \"other\"\n",
    "official_spore = ['k', 'p', 'w', 'n']\n",
    "df1['spore-print-color'] = df1['spore-print-color'].apply(lambda x: x if x in official_spore else 'other')\n",
    "spore1 = df1['spore-print-color'].value_counts()\n",
    "print(spore1)"
   ]
  },
  {
   "cell_type": "code",
   "execution_count": 206,
   "metadata": {},
   "outputs": [
    {
     "name": "stdout",
     "output_type": "stream",
     "text": [
      "habitat\n",
      "d    2177573\n",
      "g     454908\n",
      "l     171892\n",
      "m     150969\n",
      "h     120137\n",
      "w      18530\n",
      "p      17180\n",
      "u       5264\n",
      "e         55\n",
      "s         52\n",
      "n         41\n",
      "t         40\n",
      "r         38\n",
      "y         34\n",
      "a         34\n",
      "Name: count, dtype: int64\n",
      "Null values: 45\n"
     ]
    }
   ],
   "source": [
    "# habitat values\n",
    "habitat = df['habitat'].value_counts()\n",
    "print(habitat.head(15))\n",
    "print('Null values:', df1['habitat'].isnull().sum())"
   ]
  },
  {
   "cell_type": "code",
   "execution_count": 207,
   "metadata": {},
   "outputs": [
    {
     "name": "stdout",
     "output_type": "stream",
     "text": [
      "Null values: 0\n",
      "habitat\n",
      "d        2177573\n",
      "g         454908\n",
      "l         171892\n",
      "m         150969\n",
      "h         120137\n",
      "w          18530\n",
      "p          17180\n",
      "u           5264\n",
      "other        492\n",
      "Name: count, dtype: int64\n"
     ]
    }
   ],
   "source": [
    "#cleaning habitat\n",
    "df1['habitat'] = df1['habitat'].fillna('other')\n",
    "df1['habitat'] = df1['habitat'].astype(str).str.strip()\n",
    "df1['habitat'] = df1['habitat'].apply(lambda x: 'x' if (x.isnumeric() or '.' in x or ' ' in x) else x)\n",
    "print('Null values:', df1['habitat'].isnull().sum())\n",
    "\n",
    "\n",
    "# we treat d, g, l, m, h, w, p, u as official values, and call all other categories \"other\"\n",
    "official_habitat = ['d', 'g', 'l', 'm', 'h', 'w', 'p', 'u']\n",
    "df1['habitat'] = df1['habitat'].apply(lambda x: x if x in official_habitat else 'other')\n",
    "habitat1 = df1['habitat'].value_counts()\n",
    "print(habitat1)"
   ]
  },
  {
   "cell_type": "code",
   "execution_count": 208,
   "metadata": {},
   "outputs": [
    {
     "name": "stdout",
     "output_type": "stream",
     "text": [
      "season\n",
      "a    1543321\n",
      "u    1153588\n",
      "w     278189\n",
      "s     141847\n",
      "Name: count, dtype: int64\n",
      "Null values: 0\n"
     ]
    }
   ],
   "source": [
    "# season values\n",
    "season = df['season'].value_counts()\n",
    "print(season.head(15))\n",
    "print('Null values:', df1['season'].isnull().sum())"
   ]
  },
  {
   "cell_type": "markdown",
   "metadata": {},
   "source": [
    "Season is already cleaned, so we leave as is."
   ]
  }
 ],
 "metadata": {
  "kernelspec": {
   "display_name": "Python 3",
   "language": "python",
   "name": "python3"
  },
  "language_info": {
   "codemirror_mode": {
    "name": "ipython",
    "version": 3
   },
   "file_extension": ".py",
   "mimetype": "text/x-python",
   "name": "python",
   "nbconvert_exporter": "python",
   "pygments_lexer": "ipython3",
   "version": "3.11.9"
  }
 },
 "nbformat": 4,
 "nbformat_minor": 2
}
